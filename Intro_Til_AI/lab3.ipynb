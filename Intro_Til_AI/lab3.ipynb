{
 "cells": [
  {
   "cell_type": "code",
   "execution_count": 1,
   "id": "0989d89b",
   "metadata": {},
   "outputs": [],
   "source": [
    "# Imports\n",
    "\n",
    "from faker import Faker\n",
    "import pandas as pd\n",
    "from laundromat.spacy.spacy_model import SpacyModel\n",
    "from faker.providers.credit_card import Provider as CreditCardProvider"
   ]
  },
  {
   "cell_type": "code",
   "execution_count": 2,
   "id": "99539386",
   "metadata": {},
   "outputs": [],
   "source": [
    "fake = Faker(['no_NO'])"
   ]
  },
  {
   "cell_type": "code",
   "execution_count": 3,
   "id": "95813a22",
   "metadata": {},
   "outputs": [],
   "source": [
    "\n",
    "df = pd.DataFrame(columns=['Navn', 'Adresse', 'PersonNr', 'CreditCard', 'ipv4'])\n",
    "for i in range(100):\n",
    "    row = fake.name(),fake.address(),fake.ssn(),fake.credit_card_number(),fake.ipv4()\n",
    "    df.loc[i]=row"
   ]
  },
  {
   "cell_type": "code",
   "execution_count": 5,
   "id": "f385ca43",
   "metadata": {},
   "outputs": [
    {
     "data": {
      "text/html": [
       "<div>\n",
       "<style scoped>\n",
       "    .dataframe tbody tr th:only-of-type {\n",
       "        vertical-align: middle;\n",
       "    }\n",
       "\n",
       "    .dataframe tbody tr th {\n",
       "        vertical-align: top;\n",
       "    }\n",
       "\n",
       "    .dataframe thead th {\n",
       "        text-align: right;\n",
       "    }\n",
       "</style>\n",
       "<table border=\"1\" class=\"dataframe\">\n",
       "  <thead>\n",
       "    <tr style=\"text-align: right;\">\n",
       "      <th></th>\n",
       "      <th>Navn</th>\n",
       "      <th>Adresse</th>\n",
       "      <th>PersonNr</th>\n",
       "      <th>CreditCard</th>\n",
       "      <th>ipv4</th>\n",
       "    </tr>\n",
       "  </thead>\n",
       "  <tbody>\n",
       "    <tr>\n",
       "      <th>0</th>\n",
       "      <td>Eva Simonsen</td>\n",
       "      <td>Jacobsenhavna 74, 6724 Johnås</td>\n",
       "      <td>17025545826</td>\n",
       "      <td>180099298422092</td>\n",
       "      <td>161.39.31.162</td>\n",
       "    </tr>\n",
       "    <tr>\n",
       "      <th>1</th>\n",
       "      <td>Ruth Karlsen</td>\n",
       "      <td>Eliassenbakken 83, 6179 Evensen</td>\n",
       "      <td>22096425329</td>\n",
       "      <td>180067459702321</td>\n",
       "      <td>91.22.212.150</td>\n",
       "    </tr>\n",
       "    <tr>\n",
       "      <th>2</th>\n",
       "      <td>Harald Lie</td>\n",
       "      <td>Ødegårdåsen 5F, 5160 Ellenberg</td>\n",
       "      <td>25028107709</td>\n",
       "      <td>3525694679249722</td>\n",
       "      <td>213.2.213.65</td>\n",
       "    </tr>\n",
       "    <tr>\n",
       "      <th>3</th>\n",
       "      <td>Henrik-Sander Pettersen</td>\n",
       "      <td>Jakobsentjernet 08, 5984 Gulbrandsen</td>\n",
       "      <td>25086306789</td>\n",
       "      <td>30248702682591</td>\n",
       "      <td>191.107.207.152</td>\n",
       "    </tr>\n",
       "    <tr>\n",
       "      <th>4</th>\n",
       "      <td>Arne Strand</td>\n",
       "      <td>Kristiansenlyngen 9C, 4218 Knutsen</td>\n",
       "      <td>16085248417</td>\n",
       "      <td>3534484638027693</td>\n",
       "      <td>76.153.112.160</td>\n",
       "    </tr>\n",
       "  </tbody>\n",
       "</table>\n",
       "</div>"
      ],
      "text/plain": [
       "                      Navn                               Adresse     PersonNr  \\\n",
       "0             Eva Simonsen         Jacobsenhavna 74, 6724 Johnås  17025545826   \n",
       "1             Ruth Karlsen       Eliassenbakken 83, 6179 Evensen  22096425329   \n",
       "2               Harald Lie        Ødegårdåsen 5F, 5160 Ellenberg  25028107709   \n",
       "3  Henrik-Sander Pettersen  Jakobsentjernet 08, 5984 Gulbrandsen  25086306789   \n",
       "4              Arne Strand    Kristiansenlyngen 9C, 4218 Knutsen  16085248417   \n",
       "\n",
       "         CreditCard             ipv4  \n",
       "0   180099298422092    161.39.31.162  \n",
       "1   180067459702321    91.22.212.150  \n",
       "2  3525694679249722     213.2.213.65  \n",
       "3    30248702682591  191.107.207.152  \n",
       "4  3534484638027693   76.153.112.160  "
      ]
     },
     "execution_count": 5,
     "metadata": {},
     "output_type": "execute_result"
    }
   ],
   "source": [
    "df.head()"
   ]
  },
  {
   "cell_type": "code",
   "execution_count": 6,
   "id": "db569c14",
   "metadata": {},
   "outputs": [],
   "source": [
    "textArray = []\n",
    "for i in range(10):\n",
    "    row=df.iloc[i]\n",
    "    name = row[0] \n",
    "    adress = row[1]\n",
    "    ssn = row[2]\n",
    "    cc = row[3]\n",
    "textArray.append(f'Hi, my name is {name}. I wonder if you deliver to {adress}. My credi card nr is {cc} and my ssn is {ssn}')"
   ]
  },
  {
   "cell_type": "code",
   "execution_count": null,
   "id": "ea5c4908",
   "metadata": {},
   "outputs": [],
   "source": []
  },
  {
   "cell_type": "code",
   "execution_count": null,
   "id": "4cb0dbfd",
   "metadata": {},
   "outputs": [],
   "source": []
  }
 ],
 "metadata": {
  "kernelspec": {
   "display_name": "Python 3 (ipykernel)",
   "language": "python",
   "name": "python3"
  },
  "language_info": {
   "codemirror_mode": {
    "name": "ipython",
    "version": 3
   },
   "file_extension": ".py",
   "mimetype": "text/x-python",
   "name": "python",
   "nbconvert_exporter": "python",
   "pygments_lexer": "ipython3",
   "version": "3.8.11"
  }
 },
 "nbformat": 4,
 "nbformat_minor": 5
}
